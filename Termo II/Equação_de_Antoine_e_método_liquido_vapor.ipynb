{
  "nbformat": 4,
  "nbformat_minor": 0,
  "metadata": {
    "colab": {
      "name": "Equação de Antoine e método liquido vapor",
      "provenance": [],
      "collapsed_sections": [],
      "authorship_tag": "ABX9TyMnuWENcFHBBc0dqxycvyUM",
      "include_colab_link": true
    },
    "kernelspec": {
      "name": "python3",
      "display_name": "Python 3"
    }
  },
  "cells": [
    {
      "cell_type": "markdown",
      "metadata": {
        "id": "view-in-github",
        "colab_type": "text"
      },
      "source": [
        "<a href=\"https://colab.research.google.com/github/Alvaro3110/Engenharia-Quimica/blob/main/Equa%C3%A7%C3%A3o_de_Antoine_e_m%C3%A9todo_liquido_vapor.ipynb\" target=\"_parent\"><img src=\"https://colab.research.google.com/assets/colab-badge.svg\" alt=\"Open In Colab\"/></a>"
      ]
    },
    {
      "cell_type": "code",
      "metadata": {
        "colab": {
          "base_uri": "https://localhost:8080/"
        },
        "id": "whVa9uMIYLr2",
        "outputId": "e30eb6da-c37d-4810-f2ee-210f5c86d425"
      },
      "source": [
        "import numpy as np\n",
        "from scipy.optimize import fsolve\n",
        "\n",
        "y1 = 0.6\n",
        "y2 = 1-y1\n",
        "K = 273.15\n",
        "P = 1 #bar\n",
        "# Equação de Antonie\n",
        "\n",
        "A = [9.0580,2154.90,-34.42] #Componente n-Butano\n",
        "B = [8.9179,2032.76,-33.15] # Componente IsoButano\n",
        "\n",
        "#Insirir a temperatura em Kelvin.\n",
        "def P1sat(T):\n",
        "  return np.exp(A[0]-(A[1]/(T+A[2])))\n",
        "def P2sat(T):\n",
        "  return np.exp(B[0]-(B[1]/(T+B[2])))\n",
        "K = 273.15\n",
        "#print(\"Psat_1: \",P1sat(100),\" bar \")\n",
        "#print(\"Psat_2: \",P2sat(100),\" bar\")\n",
        "\n",
        "#Solver\n",
        "def f(z):\n",
        "  T,x1,x2 = z\n",
        "  f0 = y1*P-x1*P1sat(T)\n",
        "  f1 = y2*P-x2*P2sat(T)\n",
        "  f2 = x1+x2-1\n",
        "  return [f0,f1,f2]\n",
        "z =fsolve(f,([140,0.5,0.5]))  #Chute deve ser de 140, pois foi o que convergiu\n",
        "\n",
        "# Fração de Vapor\n",
        "y_1 = (z[1]*P1sat(z[0]))/P\n",
        "y_2 = (z[2]*P1sat(z[0]))/P\n",
        "\n",
        "#Saída de Dados\n",
        "print(f'Temperatura: {z[0]:.2f}')\n",
        "print(f'Fração molar do N-Butano: {z[1]:.2f}')\n",
        "print(f'Fração molar do isoButano: {z[2]:.2f}')\n",
        "print(f'Psat_1: {P1sat(z[0]):.2f}',' bar')\n",
        "print(f'Psat_2: {P2sat(z[0]):.2f}',' bar')\n",
        "print(f'y1 = {y_1:.2f}')\n",
        "print(f'y2 = {y_2:.2f}')\n"
      ],
      "execution_count": null,
      "outputs": [
        {
          "output_type": "stream",
          "text": [
            "Temperatura: 268.44\n",
            "Fração molar do N-Butano: 0.70\n",
            "Fração molar do isoButano: 0.30\n",
            "Psat_1: 0.86  bar\n",
            "Psat_2: 1.32  bar\n",
            "y1 = 0.60\n",
            "y2 = 0.26\n"
          ],
          "name": "stdout"
        }
      ]
    },
    {
      "cell_type": "code",
      "metadata": {
        "id": "TZkayg5ZA7Aa"
      },
      "source": [
        ""
      ],
      "execution_count": null,
      "outputs": []
    }
  ]
}
